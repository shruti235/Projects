{
  "nbformat": 4,
  "nbformat_minor": 0,
  "metadata": {
    "colab": {
      "provenance": []
    },
    "kernelspec": {
      "name": "python3",
      "display_name": "Python 3"
    },
    "language_info": {
      "name": "python"
    }
  },
  "cells": [
    {
      "cell_type": "code",
      "execution_count": null,
      "metadata": {
        "id": "Z_jO2PNFCwo1"
      },
      "outputs": [],
      "source": [
        "import requests\n",
        "from bs4 import BeautifulSoup"
      ]
    },
    {
      "cell_type": "code",
      "source": [
        "URL = \"https://books.toscrape.com/index.html\""
      ],
      "metadata": {
        "id": "H5UmEnzOLlyO"
      },
      "execution_count": null,
      "outputs": []
    },
    {
      "cell_type": "code",
      "source": [
        "response = requests.get(URL)\n",
        "response"
      ],
      "metadata": {
        "colab": {
          "base_uri": "https://localhost:8080/"
        },
        "id": "NUxIQAYkMCWK",
        "outputId": "b925a965-cff4-4d5f-affc-d71d71018517"
      },
      "execution_count": null,
      "outputs": [
        {
          "output_type": "execute_result",
          "data": {
            "text/plain": [
              "<Response [200]>"
            ]
          },
          "metadata": {},
          "execution_count": 6
        }
      ]
    },
    {
      "cell_type": "code",
      "source": [
        "page_contents = response.text\n",
        "#Creating a file and loading the page contents in it.\n",
        "with open('Bookswebpage.html','w') as f:\n",
        "    f.write(page_contents)"
      ],
      "metadata": {
        "id": "e0nHfwCOMJ3U"
      },
      "execution_count": null,
      "outputs": []
    },
    {
      "cell_type": "code",
      "source": [
        "doc = BeautifulSoup(page_contents,'html.parser')"
      ],
      "metadata": {
        "id": "lDMG2BkFMcBY"
      },
      "execution_count": null,
      "outputs": []
    },
    {
      "cell_type": "code",
      "source": [
        "def get_book_titles(doc):\n",
        "    Book_title_tags = doc.find_all('h3')\n",
        "    Book_titles = []\n",
        "    for tags in Book_title_tags:\n",
        "        Book_titles.append(tags.text)\n",
        "    return Book_titles"
      ],
      "metadata": {
        "id": "oVLDJ0L5NA9d"
      },
      "execution_count": null,
      "outputs": []
    },
    {
      "cell_type": "code",
      "source": [
        "#'get_book_titles(doc)' will give you the titles of the books like the image shown below.\n",
        "get_book_titles(doc)"
      ],
      "metadata": {
        "colab": {
          "base_uri": "https://localhost:8080/"
        },
        "id": "Fa1uMVW3OCKZ",
        "outputId": "e1f5def6-4356-40c8-be37-8110220ccb2a"
      },
      "execution_count": null,
      "outputs": [
        {
          "output_type": "execute_result",
          "data": {
            "text/plain": [
              "['A Light in the ...',\n",
              " 'Tipping the Velvet',\n",
              " 'Soumission',\n",
              " 'Sharp Objects',\n",
              " 'Sapiens: A Brief History ...',\n",
              " 'The Requiem Red',\n",
              " 'The Dirty Little Secrets ...',\n",
              " 'The Coming Woman: A ...',\n",
              " 'The Boys in the ...',\n",
              " 'The Black Maria',\n",
              " 'Starving Hearts (Triangular Trade ...',\n",
              " \"Shakespeare's Sonnets\",\n",
              " 'Set Me Free',\n",
              " \"Scott Pilgrim's Precious Little ...\",\n",
              " 'Rip it Up and ...',\n",
              " 'Our Band Could Be ...',\n",
              " 'Olio',\n",
              " 'Mesaerion: The Best Science ...',\n",
              " 'Libertarianism for Beginners',\n",
              " \"It's Only the Himalayas\"]"
            ]
          },
          "metadata": {},
          "execution_count": 10
        }
      ]
    },
    {
      "cell_type": "code",
      "source": [
        "def get_book_price(doc):\n",
        "    Book_price_tags = doc.find_all('p', class_ = 'price_color')\n",
        "    Book_price = []\n",
        "    for tags in Book_price_tags:\n",
        "        Book_price.append(tags.text.replace('Â',''))\n",
        "    return Book_price"
      ],
      "metadata": {
        "id": "pstN7colObEG"
      },
      "execution_count": null,
      "outputs": []
    },
    {
      "cell_type": "code",
      "source": [
        "get_book_price(doc)"
      ],
      "metadata": {
        "colab": {
          "base_uri": "https://localhost:8080/"
        },
        "id": "SAfNGIGTO4R0",
        "outputId": "202f4759-f770-4551-b995-7a7d92432ce8"
      },
      "execution_count": null,
      "outputs": [
        {
          "output_type": "execute_result",
          "data": {
            "text/plain": [
              "['£51.77',\n",
              " '£53.74',\n",
              " '£50.10',\n",
              " '£47.82',\n",
              " '£54.23',\n",
              " '£22.65',\n",
              " '£33.34',\n",
              " '£17.93',\n",
              " '£22.60',\n",
              " '£52.15',\n",
              " '£13.99',\n",
              " '£20.66',\n",
              " '£17.46',\n",
              " '£52.29',\n",
              " '£35.02',\n",
              " '£57.25',\n",
              " '£23.88',\n",
              " '£37.59',\n",
              " '£51.33',\n",
              " '£45.17']"
            ]
          },
          "metadata": {},
          "execution_count": 12
        }
      ]
    },
    {
      "cell_type": "code",
      "source": [
        "def get_stock_availability(doc):\n",
        "    Book_stock_tags = doc.find_all('p', class_ = 'instock availability')\n",
        "    Book_stock = []\n",
        "    for tags in Book_stock_tags:\n",
        "        Book_stock.append(tags.text.strip())\n",
        "    return Book_stock"
      ],
      "metadata": {
        "id": "gLgNQFcdO_WT"
      },
      "execution_count": null,
      "outputs": []
    },
    {
      "cell_type": "code",
      "source": [
        "get_stock_availability(doc)"
      ],
      "metadata": {
        "colab": {
          "base_uri": "https://localhost:8080/"
        },
        "id": "Roo5VTH6PZIj",
        "outputId": "4afa7bb9-f28f-4e03-fa71-eed5d13770f8"
      },
      "execution_count": null,
      "outputs": [
        {
          "output_type": "execute_result",
          "data": {
            "text/plain": [
              "['In stock',\n",
              " 'In stock',\n",
              " 'In stock',\n",
              " 'In stock',\n",
              " 'In stock',\n",
              " 'In stock',\n",
              " 'In stock',\n",
              " 'In stock',\n",
              " 'In stock',\n",
              " 'In stock',\n",
              " 'In stock',\n",
              " 'In stock',\n",
              " 'In stock',\n",
              " 'In stock',\n",
              " 'In stock',\n",
              " 'In stock',\n",
              " 'In stock',\n",
              " 'In stock',\n",
              " 'In stock',\n",
              " 'In stock']"
            ]
          },
          "metadata": {},
          "execution_count": 14
        }
      ]
    },
    {
      "cell_type": "code",
      "source": [
        "def get_doc(url):\n",
        "    response = requests.get(url)\n",
        "    doc = BeautifulSoup(response.text,'html.parser')\n",
        "    if response.status_code != 200:\n",
        "        raise Exception('Failed to load page {}'.format(response))\n",
        "    return doc"
      ],
      "metadata": {
        "id": "P_2w2OKuPcNa"
      },
      "execution_count": null,
      "outputs": []
    },
    {
      "cell_type": "code",
      "source": [
        "import pandas as pd\n",
        "def scrape_multiple_pages(n):\n",
        "    URL = 'https://books.toscrape.com/catalogue/page-'\n",
        "    titles,prices,stocks_availability = [],[],[]\n",
        "\n",
        "    for page in range(1,n+1):\n",
        "        doc = get_doc(URL + str(page)+ '.html')\n",
        "        titles.extend(get_book_titles(doc))\n",
        "        prices.extend(get_book_price(doc))\n",
        "        stocks_availability.extend(get_stock_availability(doc))\n",
        "\n",
        "    book_dict1 = {\n",
        "                'TITLE':titles,\n",
        "                'PRICE':prices,\n",
        "                'STOCK AVAILABILTY':stocks_availability}\n",
        "    return pd.DataFrame(book_dict1)"
      ],
      "metadata": {
        "id": "2dQIokF6Px52"
      },
      "execution_count": null,
      "outputs": []
    },
    {
      "cell_type": "code",
      "source": [
        "scrape_multiple_pages(5)"
      ],
      "metadata": {
        "colab": {
          "base_uri": "https://localhost:8080/",
          "height": 423
        },
        "id": "SnZf2OCdP1dk",
        "outputId": "ac0fafc2-bd63-4f2f-e3b7-336748ca6fbe"
      },
      "execution_count": null,
      "outputs": [
        {
          "output_type": "execute_result",
          "data": {
            "text/plain": [
              "                                 TITLE   PRICE STOCK AVAILABILTY\n",
              "0                   A Light in the ...  £51.77          In stock\n",
              "1                   Tipping the Velvet  £53.74          In stock\n",
              "2                           Soumission  £50.10          In stock\n",
              "3                        Sharp Objects  £47.82          In stock\n",
              "4         Sapiens: A Brief History ...  £54.23          In stock\n",
              "..                                 ...     ...               ...\n",
              "95           Lumberjanes Vol. 3: A ...  £19.92          In stock\n",
              "96  Layered: Baking, Building, and ...  £40.11          In stock\n",
              "97            Judo: Seven Steps to ...  £53.90          In stock\n",
              "98                                Join  £35.67          In stock\n",
              "99               In the Country We ...  £22.00          In stock\n",
              "\n",
              "[100 rows x 3 columns]"
            ],
            "text/html": [
              "\n",
              "  <div id=\"df-2aed1feb-aac0-42ab-9bfd-92f599ed929b\" class=\"colab-df-container\">\n",
              "    <div>\n",
              "<style scoped>\n",
              "    .dataframe tbody tr th:only-of-type {\n",
              "        vertical-align: middle;\n",
              "    }\n",
              "\n",
              "    .dataframe tbody tr th {\n",
              "        vertical-align: top;\n",
              "    }\n",
              "\n",
              "    .dataframe thead th {\n",
              "        text-align: right;\n",
              "    }\n",
              "</style>\n",
              "<table border=\"1\" class=\"dataframe\">\n",
              "  <thead>\n",
              "    <tr style=\"text-align: right;\">\n",
              "      <th></th>\n",
              "      <th>TITLE</th>\n",
              "      <th>PRICE</th>\n",
              "      <th>STOCK AVAILABILTY</th>\n",
              "    </tr>\n",
              "  </thead>\n",
              "  <tbody>\n",
              "    <tr>\n",
              "      <th>0</th>\n",
              "      <td>A Light in the ...</td>\n",
              "      <td>£51.77</td>\n",
              "      <td>In stock</td>\n",
              "    </tr>\n",
              "    <tr>\n",
              "      <th>1</th>\n",
              "      <td>Tipping the Velvet</td>\n",
              "      <td>£53.74</td>\n",
              "      <td>In stock</td>\n",
              "    </tr>\n",
              "    <tr>\n",
              "      <th>2</th>\n",
              "      <td>Soumission</td>\n",
              "      <td>£50.10</td>\n",
              "      <td>In stock</td>\n",
              "    </tr>\n",
              "    <tr>\n",
              "      <th>3</th>\n",
              "      <td>Sharp Objects</td>\n",
              "      <td>£47.82</td>\n",
              "      <td>In stock</td>\n",
              "    </tr>\n",
              "    <tr>\n",
              "      <th>4</th>\n",
              "      <td>Sapiens: A Brief History ...</td>\n",
              "      <td>£54.23</td>\n",
              "      <td>In stock</td>\n",
              "    </tr>\n",
              "    <tr>\n",
              "      <th>...</th>\n",
              "      <td>...</td>\n",
              "      <td>...</td>\n",
              "      <td>...</td>\n",
              "    </tr>\n",
              "    <tr>\n",
              "      <th>95</th>\n",
              "      <td>Lumberjanes Vol. 3: A ...</td>\n",
              "      <td>£19.92</td>\n",
              "      <td>In stock</td>\n",
              "    </tr>\n",
              "    <tr>\n",
              "      <th>96</th>\n",
              "      <td>Layered: Baking, Building, and ...</td>\n",
              "      <td>£40.11</td>\n",
              "      <td>In stock</td>\n",
              "    </tr>\n",
              "    <tr>\n",
              "      <th>97</th>\n",
              "      <td>Judo: Seven Steps to ...</td>\n",
              "      <td>£53.90</td>\n",
              "      <td>In stock</td>\n",
              "    </tr>\n",
              "    <tr>\n",
              "      <th>98</th>\n",
              "      <td>Join</td>\n",
              "      <td>£35.67</td>\n",
              "      <td>In stock</td>\n",
              "    </tr>\n",
              "    <tr>\n",
              "      <th>99</th>\n",
              "      <td>In the Country We ...</td>\n",
              "      <td>£22.00</td>\n",
              "      <td>In stock</td>\n",
              "    </tr>\n",
              "  </tbody>\n",
              "</table>\n",
              "<p>100 rows × 3 columns</p>\n",
              "</div>\n",
              "    <div class=\"colab-df-buttons\">\n",
              "\n",
              "  <div class=\"colab-df-container\">\n",
              "    <button class=\"colab-df-convert\" onclick=\"convertToInteractive('df-2aed1feb-aac0-42ab-9bfd-92f599ed929b')\"\n",
              "            title=\"Convert this dataframe to an interactive table.\"\n",
              "            style=\"display:none;\">\n",
              "\n",
              "  <svg xmlns=\"http://www.w3.org/2000/svg\" height=\"24px\" viewBox=\"0 -960 960 960\">\n",
              "    <path d=\"M120-120v-720h720v720H120Zm60-500h600v-160H180v160Zm220 220h160v-160H400v160Zm0 220h160v-160H400v160ZM180-400h160v-160H180v160Zm440 0h160v-160H620v160ZM180-180h160v-160H180v160Zm440 0h160v-160H620v160Z\"/>\n",
              "  </svg>\n",
              "    </button>\n",
              "\n",
              "  <style>\n",
              "    .colab-df-container {\n",
              "      display:flex;\n",
              "      gap: 12px;\n",
              "    }\n",
              "\n",
              "    .colab-df-convert {\n",
              "      background-color: #E8F0FE;\n",
              "      border: none;\n",
              "      border-radius: 50%;\n",
              "      cursor: pointer;\n",
              "      display: none;\n",
              "      fill: #1967D2;\n",
              "      height: 32px;\n",
              "      padding: 0 0 0 0;\n",
              "      width: 32px;\n",
              "    }\n",
              "\n",
              "    .colab-df-convert:hover {\n",
              "      background-color: #E2EBFA;\n",
              "      box-shadow: 0px 1px 2px rgba(60, 64, 67, 0.3), 0px 1px 3px 1px rgba(60, 64, 67, 0.15);\n",
              "      fill: #174EA6;\n",
              "    }\n",
              "\n",
              "    .colab-df-buttons div {\n",
              "      margin-bottom: 4px;\n",
              "    }\n",
              "\n",
              "    [theme=dark] .colab-df-convert {\n",
              "      background-color: #3B4455;\n",
              "      fill: #D2E3FC;\n",
              "    }\n",
              "\n",
              "    [theme=dark] .colab-df-convert:hover {\n",
              "      background-color: #434B5C;\n",
              "      box-shadow: 0px 1px 3px 1px rgba(0, 0, 0, 0.15);\n",
              "      filter: drop-shadow(0px 1px 2px rgba(0, 0, 0, 0.3));\n",
              "      fill: #FFFFFF;\n",
              "    }\n",
              "  </style>\n",
              "\n",
              "    <script>\n",
              "      const buttonEl =\n",
              "        document.querySelector('#df-2aed1feb-aac0-42ab-9bfd-92f599ed929b button.colab-df-convert');\n",
              "      buttonEl.style.display =\n",
              "        google.colab.kernel.accessAllowed ? 'block' : 'none';\n",
              "\n",
              "      async function convertToInteractive(key) {\n",
              "        const element = document.querySelector('#df-2aed1feb-aac0-42ab-9bfd-92f599ed929b');\n",
              "        const dataTable =\n",
              "          await google.colab.kernel.invokeFunction('convertToInteractive',\n",
              "                                                    [key], {});\n",
              "        if (!dataTable) return;\n",
              "\n",
              "        const docLinkHtml = 'Like what you see? Visit the ' +\n",
              "          '<a target=\"_blank\" href=https://colab.research.google.com/notebooks/data_table.ipynb>data table notebook</a>'\n",
              "          + ' to learn more about interactive tables.';\n",
              "        element.innerHTML = '';\n",
              "        dataTable['output_type'] = 'display_data';\n",
              "        await google.colab.output.renderOutput(dataTable, element);\n",
              "        const docLink = document.createElement('div');\n",
              "        docLink.innerHTML = docLinkHtml;\n",
              "        element.appendChild(docLink);\n",
              "      }\n",
              "    </script>\n",
              "  </div>\n",
              "\n",
              "\n",
              "<div id=\"df-ac32aed9-751e-4af1-a11b-6170dfcbc9a4\">\n",
              "  <button class=\"colab-df-quickchart\" onclick=\"quickchart('df-ac32aed9-751e-4af1-a11b-6170dfcbc9a4')\"\n",
              "            title=\"Suggest charts\"\n",
              "            style=\"display:none;\">\n",
              "\n",
              "<svg xmlns=\"http://www.w3.org/2000/svg\" height=\"24px\"viewBox=\"0 0 24 24\"\n",
              "     width=\"24px\">\n",
              "    <g>\n",
              "        <path d=\"M19 3H5c-1.1 0-2 .9-2 2v14c0 1.1.9 2 2 2h14c1.1 0 2-.9 2-2V5c0-1.1-.9-2-2-2zM9 17H7v-7h2v7zm4 0h-2V7h2v10zm4 0h-2v-4h2v4z\"/>\n",
              "    </g>\n",
              "</svg>\n",
              "  </button>\n",
              "\n",
              "<style>\n",
              "  .colab-df-quickchart {\n",
              "      --bg-color: #E8F0FE;\n",
              "      --fill-color: #1967D2;\n",
              "      --hover-bg-color: #E2EBFA;\n",
              "      --hover-fill-color: #174EA6;\n",
              "      --disabled-fill-color: #AAA;\n",
              "      --disabled-bg-color: #DDD;\n",
              "  }\n",
              "\n",
              "  [theme=dark] .colab-df-quickchart {\n",
              "      --bg-color: #3B4455;\n",
              "      --fill-color: #D2E3FC;\n",
              "      --hover-bg-color: #434B5C;\n",
              "      --hover-fill-color: #FFFFFF;\n",
              "      --disabled-bg-color: #3B4455;\n",
              "      --disabled-fill-color: #666;\n",
              "  }\n",
              "\n",
              "  .colab-df-quickchart {\n",
              "    background-color: var(--bg-color);\n",
              "    border: none;\n",
              "    border-radius: 50%;\n",
              "    cursor: pointer;\n",
              "    display: none;\n",
              "    fill: var(--fill-color);\n",
              "    height: 32px;\n",
              "    padding: 0;\n",
              "    width: 32px;\n",
              "  }\n",
              "\n",
              "  .colab-df-quickchart:hover {\n",
              "    background-color: var(--hover-bg-color);\n",
              "    box-shadow: 0 1px 2px rgba(60, 64, 67, 0.3), 0 1px 3px 1px rgba(60, 64, 67, 0.15);\n",
              "    fill: var(--button-hover-fill-color);\n",
              "  }\n",
              "\n",
              "  .colab-df-quickchart-complete:disabled,\n",
              "  .colab-df-quickchart-complete:disabled:hover {\n",
              "    background-color: var(--disabled-bg-color);\n",
              "    fill: var(--disabled-fill-color);\n",
              "    box-shadow: none;\n",
              "  }\n",
              "\n",
              "  .colab-df-spinner {\n",
              "    border: 2px solid var(--fill-color);\n",
              "    border-color: transparent;\n",
              "    border-bottom-color: var(--fill-color);\n",
              "    animation:\n",
              "      spin 1s steps(1) infinite;\n",
              "  }\n",
              "\n",
              "  @keyframes spin {\n",
              "    0% {\n",
              "      border-color: transparent;\n",
              "      border-bottom-color: var(--fill-color);\n",
              "      border-left-color: var(--fill-color);\n",
              "    }\n",
              "    20% {\n",
              "      border-color: transparent;\n",
              "      border-left-color: var(--fill-color);\n",
              "      border-top-color: var(--fill-color);\n",
              "    }\n",
              "    30% {\n",
              "      border-color: transparent;\n",
              "      border-left-color: var(--fill-color);\n",
              "      border-top-color: var(--fill-color);\n",
              "      border-right-color: var(--fill-color);\n",
              "    }\n",
              "    40% {\n",
              "      border-color: transparent;\n",
              "      border-right-color: var(--fill-color);\n",
              "      border-top-color: var(--fill-color);\n",
              "    }\n",
              "    60% {\n",
              "      border-color: transparent;\n",
              "      border-right-color: var(--fill-color);\n",
              "    }\n",
              "    80% {\n",
              "      border-color: transparent;\n",
              "      border-right-color: var(--fill-color);\n",
              "      border-bottom-color: var(--fill-color);\n",
              "    }\n",
              "    90% {\n",
              "      border-color: transparent;\n",
              "      border-bottom-color: var(--fill-color);\n",
              "    }\n",
              "  }\n",
              "</style>\n",
              "\n",
              "  <script>\n",
              "    async function quickchart(key) {\n",
              "      const quickchartButtonEl =\n",
              "        document.querySelector('#' + key + ' button');\n",
              "      quickchartButtonEl.disabled = true;  // To prevent multiple clicks.\n",
              "      quickchartButtonEl.classList.add('colab-df-spinner');\n",
              "      try {\n",
              "        const charts = await google.colab.kernel.invokeFunction(\n",
              "            'suggestCharts', [key], {});\n",
              "      } catch (error) {\n",
              "        console.error('Error during call to suggestCharts:', error);\n",
              "      }\n",
              "      quickchartButtonEl.classList.remove('colab-df-spinner');\n",
              "      quickchartButtonEl.classList.add('colab-df-quickchart-complete');\n",
              "    }\n",
              "    (() => {\n",
              "      let quickchartButtonEl =\n",
              "        document.querySelector('#df-ac32aed9-751e-4af1-a11b-6170dfcbc9a4 button');\n",
              "      quickchartButtonEl.style.display =\n",
              "        google.colab.kernel.accessAllowed ? 'block' : 'none';\n",
              "    })();\n",
              "  </script>\n",
              "</div>\n",
              "\n",
              "    </div>\n",
              "  </div>\n"
            ]
          },
          "metadata": {},
          "execution_count": 20
        }
      ]
    },
    {
      "cell_type": "code",
      "source": [
        "scrape_multiple_pages(5).to_csv('SCB.csv',index = None)"
      ],
      "metadata": {
        "id": "F9-H4N-eQyfa"
      },
      "execution_count": null,
      "outputs": []
    },
    {
      "cell_type": "code",
      "source": [
        "scrape_multiple_pages(5).to_csv('SCB1.csv')"
      ],
      "metadata": {
        "id": "UXGRHZ3AROvn"
      },
      "execution_count": null,
      "outputs": []
    },
    {
      "cell_type": "code",
      "source": [
        "scrape_multiple_pages(5).to_excel('SCB2.xlsx')"
      ],
      "metadata": {
        "id": "x-ifiRaDRhp2"
      },
      "execution_count": null,
      "outputs": []
    },
    {
      "cell_type": "code",
      "source": [],
      "metadata": {
        "id": "1KWpu7YwSegl"
      },
      "execution_count": null,
      "outputs": []
    }
  ]
}